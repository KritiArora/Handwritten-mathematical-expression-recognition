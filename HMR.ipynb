{
  "nbformat": 4,
  "nbformat_minor": 0,
  "metadata": {
    "kernelspec": {
      "name": "python3",
      "display_name": "Python 3"
    },
    "language_info": {
      "pygments_lexer": "ipython3",
      "nbconvert_exporter": "python",
      "version": "3.6.4",
      "file_extension": ".py",
      "codemirror_mode": {
        "name": "ipython",
        "version": 3
      },
      "name": "python",
      "mimetype": "text/x-python"
    },
    "colab": {
      "name": "HMR.ipynb",
      "provenance": [],
      "collapsed_sections": [],
      "machine_shape": "hm"
    },
    "accelerator": "GPU"
  },
  "cells": [
    {
      "cell_type": "code",
      "metadata": {
        "_uuid": "8f2839f25d086af736a60e9eeb907d3b93b6e0e5",
        "_cell_guid": "b1076dfc-b9ad-4769-8c92-a6c4dae69d19",
        "trusted": true,
        "id": "v7RI63_x5nFR"
      },
      "source": [
        "%matplotlib inline\n",
        "import torch\n",
        "import numpy as np\n",
        "import os, cv2\n",
        "from torchvision import models\n",
        "import torchvision.transforms as T\n",
        "from torch import nn\n",
        "from torch.autograd import Variable\n",
        "from PIL import Image\n",
        "from pprint import pprint\n",
        "import time\n",
        "import math\n",
        "import matplotlib.pyplot as plt\n",
        "plt.switch_backend('agg')\n",
        "import matplotlib.ticker as ticker\n",
        "from torch import optim\n",
        "import torch.nn.functional as F\n",
        "import random"
      ],
      "execution_count": null,
      "outputs": []
    },
    {
      "cell_type": "code",
      "metadata": {
        "trusted": true,
        "id": "j2yCHVhH5nFn"
      },
      "source": [
        "MAX_LENGTH = 200"
      ],
      "execution_count": null,
      "outputs": []
    },
    {
      "cell_type": "code",
      "metadata": {
        "trusted": true,
        "id": "jYktsHqC5nFw",
        "colab": {
          "base_uri": "https://localhost:8080/",
          "height": 35
        },
        "outputId": "537fa2aa-50b6-4963-98bb-d139ef549743"
      },
      "source": [
        "device = torch.device(\"cuda\" if torch.cuda.is_available() else \"cpu\")\n",
        "print(device)"
      ],
      "execution_count": null,
      "outputs": [
        {
          "output_type": "stream",
          "text": [
            "cuda\n"
          ],
          "name": "stdout"
        }
      ]
    },
    {
      "cell_type": "code",
      "metadata": {
        "trusted": true,
        "id": "03noI52R5nF_"
      },
      "source": [
        "Image_transform = T.Compose([T.Resize(256),\n",
        "                 T.CenterCrop(224),\n",
        "                 T.ToTensor(), \n",
        "                 T.Normalize(mean = [0.485, 0.456, 0.406], \n",
        "                             std = [0.229, 0.224, 0.225])])"
      ],
      "execution_count": null,
      "outputs": []
    },
    {
      "cell_type": "code",
      "metadata": {
        "_uuid": "d629ff2d2480ee46fbb7e2d37f6b5fab8052498a",
        "_cell_guid": "79c7e3d0-c299-4dcb-8224-4455121ee9b0",
        "trusted": true,
        "id": "qU3IDfB05nGK"
      },
      "source": [
        "def get_path(s):\n",
        "    paths = {\n",
        "        \"Images\" : \"data/images/\",\n",
        "        \"Vocab\" : \"data/kaggle/cleaned_mathml/vocab.csv\",\n",
        "        \"MathML\" : \"data/kaggle/cleaned_mathml/\"\n",
        "    }\n",
        "    return paths[s]"
      ],
      "execution_count": null,
      "outputs": []
    },
    {
      "cell_type": "code",
      "metadata": {
        "trusted": true,
        "id": "aHJgWkQD5nGa"
      },
      "source": [
        "Image_file_names = os.listdir(get_path(\"Images\"))\n",
        "MathML_file_names = os.listdir(get_path(\"MathML\"))\n",
        "\n",
        "temp_image = []\n",
        "temp_mm = []\n",
        "\n",
        "for mm_name in set(MathML_file_names):\n",
        "    img_name = mm_name[:-4] + \".inkml.png\"\n",
        "    if(img_name in Image_file_names):\n",
        "        temp_image.append(img_name)\n",
        "        temp_mm.append(mm_name)\n",
        "        \n",
        "Image_file_names = temp_image\n",
        "MathML_file_names = temp_mm\n",
        "data_size = len(Image_file_names)"
      ],
      "execution_count": null,
      "outputs": []
    },
    {
      "cell_type": "code",
      "metadata": {
        "trusted": true,
        "id": "JYdZkv9b5nGs"
      },
      "source": [
        "wordtoint = {\n",
        "    '<SOS>' : 0\n",
        "}\n",
        "inttoword = {\n",
        "    0 : '<SOS>',\n",
        "}\n",
        "with open(get_path(\"Vocab\")) as f:\n",
        "    words = f.read().strip().split(\" \")\n",
        "    for e, word in enumerate(words):\n",
        "        wordtoint[word] = e+1\n",
        "        inttoword[e+1] = word\n",
        "end = len(wordtoint)\n",
        "wordtoint['<EOS>'] = end\n",
        "inttoword[end] = '<EOS>'\n",
        "SOS_token = 0\n",
        "EOS_token = end"
      ],
      "execution_count": null,
      "outputs": []
    },
    {
      "cell_type": "code",
      "metadata": {
        "trusted": true,
        "id": "rFEYV9TH5nG5"
      },
      "source": [
        "def get_input_pair(index, EOS_token=EOS_token):\n",
        "    img = Image.fromarray(cv2.imread(get_path(\"Images\") + Image_file_names[index]))\n",
        "    img = Image_transform(img).unsqueeze(0)\n",
        "    tar = None\n",
        "    with open(get_path(\"MathML\") + MathML_file_names[index]) as f:\n",
        "        arr = f.read().strip().split(\" \")\n",
        "        tar = [torch.tensor([wordtoint[word]]) for word in arr]\n",
        "    tar.append(torch.tensor([EOS_token]))\n",
        "    tar = torch.tensor(tar).reshape(-1, 1)\n",
        "    return img, tar"
      ],
      "execution_count": null,
      "outputs": []
    },
    {
      "cell_type": "code",
      "metadata": {
        "id": "B3lsFBQEAHey"
      },
      "source": [
        "img_data = None\n",
        "mm_data = None\n",
        "def get_input_pair_fast(index, img_data=img_data, mm_data=mm_data):\n",
        "    if(img_data != None):\n",
        "        return img_data[index], mm_data[index]\n",
        "    img_data = []\n",
        "    mm_data = []\n",
        "    for k in range(len(Image_file_names)):\n",
        "        a, b = get_input_pair(k)\n",
        "        img_data.append(a)\n",
        "        mm_data.append(b)\n",
        "    return img_data[index], mm_data[index]"
      ],
      "execution_count": null,
      "outputs": []
    },
    {
      "cell_type": "code",
      "metadata": {
        "trusted": true,
        "id": "JmjheCtq5nHB"
      },
      "source": [
        "class Encoder(nn.Module):\n",
        "    def __init__(self):\n",
        "        super(Encoder, self).__init__()\n",
        "        temp_model = models.densenet169(pretrained=True)\n",
        "        modules = list(temp_model.children())[:-1]\n",
        "        self.densenet = nn.Sequential(*modules)\n",
        "\n",
        "        # It stops pytorch from precalulating gradients for pretrained model\n",
        "        for p in self.densenet.parameters():\n",
        "            p.requires_grad = False\n",
        "        # (1, 1664, 7, 7)\n",
        "        self.cnn1 = nn.Conv2d(1664, 1500, kernel_size=(1,1))\n",
        "        self.cnn2 = nn.Conv2d(1500, 1400, kernel_size=(1,1))\n",
        "        self.relu = nn.ReLU()\n",
        "\n",
        "    def forward(self, image):\n",
        "        # (1, 3, 224, 224)\n",
        "        output = self.densenet(image)\n",
        "        # (1, 1664, 7, 7)\n",
        "        output = self.relu(self.cnn2(self.relu(self.cnn1(output))))\n",
        "        # (1, 1400, 7, 7)\n",
        "        # (200, 343)\n",
        "        return output"
      ],
      "execution_count": null,
      "outputs": []
    },
    {
      "cell_type": "code",
      "metadata": {
        "trusted": true,
        "id": "bm6y2i4f5nHM"
      },
      "source": [
        "class Decoder(nn.Module):\n",
        "    def __init__(self, hidden_size, output_size, drop_prob=0.1, max_size=MAX_LENGTH):\n",
        "        super(Decoder, self).__init__()\n",
        "        self.hidden_size = hidden_size\n",
        "        self.output_size = output_size\n",
        "        self.drop_prob = drop_prob\n",
        "        self.max_size = max_size\n",
        "        \n",
        "        self.embedding = nn.Embedding(output_size, hidden_size)\n",
        "        self.attn = nn.Linear(hidden_size * 2, max_size)\n",
        "        self.attn_combine = nn.Linear(hidden_size * 2, hidden_size)\n",
        "        self.dropout = nn.Dropout(drop_prob)\n",
        "        self.gru = nn.GRU(hidden_size, hidden_size)\n",
        "        self.out = nn.Linear(hidden_size, output_size)\n",
        "        \n",
        "    def forward(self, inp, hidden, encoder_outputs):\n",
        "        embedded = self.embedding(inp).view(1, 1, -1)\n",
        "        embedded = self.dropout(embedded)\n",
        "\n",
        "        attn_weights = F.softmax(self.attn(torch.cat((embedded[0], hidden[0]), 1)), dim=1)\n",
        "#         print(attn_weights.shape)\n",
        "#         print(encoder_outputs.shape)\n",
        "        attn_applied = torch.bmm(attn_weights.unsqueeze(0), encoder_outputs.unsqueeze(0))\n",
        "        \n",
        "        output = torch.cat((embedded[0], attn_applied[0]), 1)\n",
        "        output = self.attn_combine(output).unsqueeze(0)\n",
        "        output = F.relu(output)\n",
        "        output, hidden = self.gru(output, hidden)\n",
        "        output = F.log_softmax(self.out(output[0]), dim=1)\n",
        "        \n",
        "        return output, hidden, attn_weights\n",
        "        # (1, 1, 5)\n",
        "        # (1, 1, 1, 5)\n",
        "    def initHidden(self):\n",
        "        return torch.zeros(1, 1, self.hidden_size, device=device)"
      ],
      "execution_count": null,
      "outputs": []
    },
    {
      "cell_type": "code",
      "metadata": {
        "trusted": true,
        "id": "cUAub59j5nHZ"
      },
      "source": [
        "def asMinutes(s):\n",
        "    m = math.floor(s / 60)\n",
        "    s -= m * 60\n",
        "    return '%dm %ds' % (m, s)\n",
        "\n",
        "def timeSince(since, percent):\n",
        "    now = time.time()\n",
        "    s = now - since\n",
        "    es = s / (percent)\n",
        "    rs = es - s\n",
        "    return '%s (- %s)' % (asMinutes(s), asMinutes(rs))"
      ],
      "execution_count": null,
      "outputs": []
    },
    {
      "cell_type": "code",
      "metadata": {
        "trusted": true,
        "id": "bHw992zn5nHm"
      },
      "source": [
        "teacher_forcing_ratio = 0.5\n",
        "\n",
        "\n",
        "def train(input_tensor, target_tensor, encoder, decoder, encoder_optimizer, decoder_optimizer, criterion, valid=False, max_length=MAX_LENGTH):\n",
        "    encoder_optimizer.zero_grad()\n",
        "    decoder_optimizer.zero_grad()\n",
        "\n",
        "    target_length = target_tensor.size(0)\n",
        "#     print(input_tensor.shape)\n",
        "#     print(target_tensor.shape)\n",
        "#     encoder_outputs = torch.zeros(max_length, encoder.hidden_size, device=device)\n",
        "\n",
        "    loss = 0\n",
        "\n",
        "    encoder_outputs = encoder(input_tensor).reshape(200, -1)\n",
        "    \n",
        "    decoder_input = torch.tensor([[SOS_token]], device=device)\n",
        "#     print(encoder_outputs.shape)\n",
        "    \n",
        "    decoder_hidden = decoder.initHidden()\n",
        "\n",
        "    use_teacher_forcing = True if random.random() < teacher_forcing_ratio else False\n",
        "\n",
        "    if use_teacher_forcing:\n",
        "        # Teacher forcing: Feed the target as the next input\n",
        "        for di in range(target_length):\n",
        "            decoder_output, decoder_hidden, decoder_attention = decoder(decoder_input, decoder_hidden, encoder_outputs)\n",
        "            # print(target_tensor[di], decoder_output)\n",
        "            loss += criterion(decoder_output, target_tensor[di])\n",
        "            \n",
        "            decoder_input = target_tensor[di]  # Teacher forcing\n",
        "\n",
        "    else:\n",
        "        # Without teacher forcing: use its own predictions as the next input\n",
        "        for di in range(target_length):\n",
        "            decoder_output, decoder_hidden, decoder_attention = decoder( decoder_input, decoder_hidden, encoder_outputs)\n",
        "            topv, topi = decoder_output.topk(1)\n",
        "            decoder_input = topi.squeeze().detach()  # detach from history as input\n",
        "\n",
        "            loss += criterion(decoder_output, target_tensor[di])\n",
        "            if decoder_input.item() == EOS_token:\n",
        "                break\n",
        "    if(not valid):\n",
        "        loss.backward()\n",
        "\n",
        "        encoder_optimizer.step()\n",
        "        decoder_optimizer.step()\n",
        "\n",
        "    return loss.item() / target_length"
      ],
      "execution_count": null,
      "outputs": []
    },
    {
      "cell_type": "code",
      "metadata": {
        "trusted": true,
        "id": "lUUZeuSE5nHz"
      },
      "source": [
        "def trainIters(encoder, decoder, n_iters, print_every=5, learning_rate=0.001, e_start=1):\n",
        "    start = time.time()\n",
        "    encoder = encoder.to(device)\n",
        "    decoder = decoder.to(device)\n",
        "    encoder_optimizer = optim.SGD([{\"params\" : encoder.cnn1.parameters()},\n",
        "                                   {\"params\" : encoder.cnn2.parameters()}]\n",
        "                                  , lr=learning_rate)\n",
        "    decoder_optimizer = optim.SGD(decoder.parameters(), lr=learning_rate)\n",
        "\n",
        "    criterion = nn.NLLLoss()\n",
        "    train_losses = []\n",
        "    valid_losses = []\n",
        "    last_valid_loss = None\n",
        "    data_index = list(range(data_size))\n",
        "    train_data_index = data_index[ : int(data_size*0.9)]\n",
        "    validation_data_index = data_index[int(data_size*0.9):]\n",
        "    if(len(train_data_index) + len(validation_data_index) != data_size):\n",
        "        print(\"partition Is Not Good Dude!!\")\n",
        "        return\n",
        "    for i in range(e_start, n_iters + 1):\n",
        "        random.shuffle(train_data_index)\n",
        "        total_loss = 0\n",
        "        encoder = encoder.train()\n",
        "        decoder = decoder.train()\n",
        "        for k in train_data_index:\n",
        "            input_tensor, target_tensor = get_input_pair(k)\n",
        "            input_tensor = input_tensor.to(device)\n",
        "            target_tensor = target_tensor.to(device)\n",
        "            loss = train(input_tensor, target_tensor, encoder, decoder, encoder_optimizer, decoder_optimizer, criterion)\n",
        "            total_loss += loss\n",
        "\n",
        "        loss_avg = total_loss/len(train_data_index)\n",
        "        print('%s (%d %d%%) %.4f' % (timeSince(start, i / n_iters), i, i / n_iters * 100, loss_avg))\n",
        "        train_losses.append(loss_avg)\n",
        "        \n",
        "        valid_loss = 0\n",
        "        encoder = encoder.eval()\n",
        "        decoder = decoder.eval()\n",
        "        for k in validation_data_index:\n",
        "            input_tensor, target_tensor = get_input_pair(k)\n",
        "            input_tensor = input_tensor.to(device)\n",
        "            target_tensor = target_tensor.to(device)\n",
        "            loss = train(input_tensor, target_tensor, encoder, decoder, encoder_optimizer, decoder_optimizer, criterion, valid=True)\n",
        "            valid_loss += loss\n",
        "\n",
        "        avg_valid_loss = valid_loss/len(validation_data_index)\n",
        "        valid_losses.append(avg_valid_loss)\n",
        "\n",
        "        if(last_valid_loss == None or (avg_valid_loss < last_valid_loss)):\n",
        "            last_valid_loss = avg_valid_loss\n",
        "            print(f'Saving Model at Epoch: {i} with validation loss {avg_valid_loss}')\n",
        "            save_state(i, encoder, encoder_optimizer, decoder, decoder_optimizer, avg_valid_loss)\n",
        "    showPlot(train_losses, valid_losses, 'red')"
      ],
      "execution_count": null,
      "outputs": []
    },
    {
      "cell_type": "code",
      "metadata": {
        "trusted": true,
        "id": "h0uAJbJ75nH8"
      },
      "source": [
        "def showPlot(points1, points2, color):\n",
        "    %matplotlib inline\n",
        "    plt.figure()\n",
        "    fig, ax = plt.subplots()\n",
        "    # this locator puts ticks at regular intervals\n",
        "    loc = ticker.MultipleLocator(base=0.2)\n",
        "    ax.yaxis.set_major_locator(loc)\n",
        "    plt.plot(points1, color='red')\n",
        "    plt.plot(points2, color='blue')"
      ],
      "execution_count": null,
      "outputs": []
    },
    {
      "cell_type": "code",
      "metadata": {
        "id": "NpFFle8B4ZOm"
      },
      "source": [
        "# showPlot([1, 2, 3])"
      ],
      "execution_count": null,
      "outputs": []
    },
    {
      "cell_type": "code",
      "metadata": {
        "trusted": true,
        "id": "Z-Vu2oxD5nIE"
      },
      "source": [
        "def save_state(epoch, encoder, encoder_optimizer, decoder, decoder_optimizer, loss):\n",
        "    torch.save({\n",
        "            'epoch': epoch,\n",
        "            'loss' : loss,\n",
        "            'encoder_state_dict': encoder.state_dict(),\n",
        "            'encoder_optimizer_state_dict': encoder_optimizer.state_dict(),\n",
        "            'decoder_state_dict': decoder.state_dict(),\n",
        "            'decoder_optimizer_state_dict': decoder_optimizer.state_dict(),\n",
        "            }, \"checkpoint\" + str(epoch) + \".pth\")"
      ],
      "execution_count": null,
      "outputs": []
    },
    {
      "cell_type": "code",
      "metadata": {
        "trusted": true,
        "id": "yqHclr735nIM"
      },
      "source": [
        "# hidden_size = 256\n",
        "# encoder1 = Encoder().to(device)\n",
        "# attn_decoder1 = AttnDecoder(hidden_size, output_lang.n_words, dropout_p=0.1).to(device)\n",
        "\n",
        "# trainIters(encoder1, attn_decoder1, 75000, print_every=5000)\n",
        "# rm -f *.pth"
      ],
      "execution_count": null,
      "outputs": []
    },
    {
      "cell_type": "code",
      "metadata": {
        "trusted": true,
        "id": "luJ6BRIt5nIQ",
        "colab": {
          "base_uri": "https://localhost:8080/",
          "height": 519
        },
        "outputId": "e56136b1-0350-49d9-ce89-9a7f28a76ee3"
      },
      "source": [
        "# encoder = Encoder()\n",
        "# decoder = Decoder(343, len(wordtoint))\n",
        "# # model_states = torch.load('../input/modeltest/checkpoint7.pth', map_location=device)\n",
        "# # encoder.load_state_dict(model_states[\"encoder_state_dict\"])\n",
        "# # decoder.load_state_dict(model_states[\"decoder_state_dict\"])\n",
        "# trainIters(encoder, decoder, 10, 5)"
      ],
      "execution_count": null,
      "outputs": [
        {
          "output_type": "stream",
          "text": [
            "26m 17s (- 236m 38s) (1 10%) 2.4565\n",
            "Saving Model at Epoch: 1 with validation loss 2.198347059671399\n",
            "54m 15s (- 217m 2s) (2 20%) 2.1488\n",
            "Saving Model at Epoch: 2 with validation loss 1.897734227971344\n",
            "82m 2s (- 191m 26s) (3 30%) 2.0190\n",
            "109m 53s (- 164m 49s) (4 40%) 1.9215\n",
            "137m 52s (- 137m 52s) (5 50%) 1.8709\n",
            "Saving Model at Epoch: 5 with validation loss 1.7756718904327045\n",
            "165m 52s (- 110m 35s) (6 60%) 1.8255\n",
            "193m 50s (- 83m 4s) (7 70%) 1.7746\n",
            "221m 55s (- 55m 28s) (8 80%) 1.7612\n",
            "250m 3s (- 27m 47s) (9 90%) 1.7444\n",
            "278m 1s (- 0m 0s) (10 100%) 1.7193\n"
          ],
          "name": "stdout"
        },
        {
          "output_type": "display_data",
          "data": {
            "text/plain": [
              "<Figure size 432x288 with 0 Axes>"
            ]
          },
          "metadata": {
            "tags": []
          }
        },
        {
          "output_type": "display_data",
          "data": {
            "image/png": "[encoded data removed]",
            "text/plain": [
              "<Figure size 432x288 with 1 Axes>"
            ]
          },
          "metadata": {
            "tags": []
          }
        }
      ]
    },
    {
      "cell_type": "code",
      "metadata": {
        "id": "bb3-fnbpYZS2"
      },
      "source": [
        "# def find_file():\n",
        "#     import re\n",
        "#     number = 1\n",
        "#     for filename in os.listdir():\n",
        "#         if(len(filename) > 5 and filename[-3:] == 'pth'):\n",
        "#             number = max(number, int(re.findall(r'\\d+', filename)[0]))\n",
        "#     return 'checkpoint' + str(number) + '.pth'\n",
        "# file_to_download = find_file()"
      ],
      "execution_count": null,
      "outputs": []
    },
    {
      "cell_type": "code",
      "metadata": {
        "id": "8KARVE8WYNCX"
      },
      "source": [
        "# from google.colab import files\n",
        "# files.download(file_to_download)"
      ],
      "execution_count": null,
      "outputs": []
    },
    {
      "cell_type": "code",
      "metadata": {
        "id": "sF9FZ26IpK0k",
        "colab": {
          "base_uri": "https://localhost:8080/",
          "height": 217
        },
        "outputId": "3fed972d-07b2-4895-c0d9-f9490ae3622a"
      },
      "source": [
        "encoder = Encoder().to(device)\n",
        "decoder = Decoder(343, len(wordtoint)).to(device)\n",
        "model_states = torch.load('checkpoint5.pth', map_location=device)\n",
        "encoder.load_state_dict(model_states[\"encoder_state_dict\"])\n",
        "decoder.load_state_dict(model_states[\"decoder_state_dict\"])\n",
        "# trainIters(encoder, decoder, 10, 5)\n",
        "# trainIters(encoder, decoder, 10, 5)"
      ],
      "execution_count": null,
      "outputs": [
        {
          "output_type": "stream",
          "text": [
            "31m 44s (- 285m 40s) (1 10%) 1.6490\n",
            "Saving Model at Epoch: 1 with validation loss 2.313935104187453\n",
            "65m 22s (- 261m 28s) (2 20%) 1.6278\n",
            "99m 1s (- 231m 3s) (3 30%) 1.6304\n",
            "132m 31s (- 198m 46s) (4 40%) 1.6252\n",
            "165m 35s (- 165m 35s) (5 50%) 1.6415\n",
            "198m 16s (- 132m 10s) (6 60%) 1.6162\n",
            "231m 50s (- 99m 21s) (7 70%) 1.5953\n",
            "Saving Model at Epoch: 7 with validation loss 2.26041211835389\n",
            "265m 36s (- 66m 24s) (8 80%) 1.5881\n",
            "299m 16s (- 33m 15s) (9 90%) 1.5743\n"
          ],
          "name": "stdout"
        }
      ]
    },
    {
      "cell_type": "code",
      "metadata": {
        "id": "PQ8eJt7mvc1s"
      },
      "source": [
        ""
      ],
      "execution_count": null,
      "outputs": []
    },
    {
      "cell_type": "code",
      "metadata": {
        "trusted": true,
        "id": "BNi7cIky5nIb",
        "colab": {
          "base_uri": "https://localhost:8080/",
          "height": 900
        },
        "outputId": "d8a2ad8d-4423-4a2d-bf2b-23d5f5de391b"
      },
      "source": [
        "%matplotlib inline\n",
        "idx = 7\n",
        "img, tar = get_input_pair(idx)\n",
        "plt.imshow(cv2.imread(get_path(\"Images\") + Image_file_names[idx]))\n",
        "img = img.to(device)\n",
        "tar = tar.to(device)\n",
        "encoder = encoder.eval()\n",
        "decoder = decoder.eval()\n",
        "out = encoder(img).reshape(200, -1)\n",
        "hid = decoder.initHidden().to(device)\n",
        "start = torch.tensor([SOS_token]).to(device)\n",
        "with open(get_path(\"MathML\") + MathML_file_names[idx]) as f:\n",
        "    arr = f.read().strip().split(\" \")\n",
        "for i in range(len(arr)):\n",
        "    ans, hid, attn = decoder(start, hid, out)\n",
        "    print(inttoword[int(F.softmax(ans).argmax())],arr[i])\n",
        "    start = F.softmax(ans).argmax()"
      ],
      "execution_count": null,
      "outputs": [
        {
          "output_type": "stream",
          "text": [
            "/usr/local/lib/python3.6/dist-packages/ipykernel_launcher.py:16: UserWarning: Implicit dimension choice for softmax has been deprecated. Change the call to include dim=X as an argument.\n",
            "  app.launch_new_instance()\n",
            "/usr/local/lib/python3.6/dist-packages/ipykernel_launcher.py:17: UserWarning: Implicit dimension choice for softmax has been deprecated. Change the call to include dim=X as an argument.\n"
          ],
          "name": "stderr"
        },
        {
          "output_type": "stream",
          "text": [
            "<mrow> <mrow>\n",
            "<mo> <msub>\n",
            "[ <mi>\n",
            "</mo> u\n",
            "<mrow> </mi>\n",
            "<mo> <mi>\n",
            "( n\n",
            "</mo> </mi>\n",
            "<mrow> </msub>\n",
            "<mi> <mrow>\n",
            "<mo> <mo>\n",
            "</mi> =\n",
            "</mrow> </mo>\n",
            "<mrow> <mrow>\n",
            "<mi> <mi>\n",
            "</mi> o\n",
            "</mrow> </mi>\n",
            "</mrow> <mrow>\n",
            "<EOS> <mo>\n",
            "</mi> (\n",
            "</mrow> </mo>\n",
            "</mrow> <mrow>\n",
            "</mrow> <msub>\n",
            "</mrow> <mi>\n",
            "</mrow> v\n",
            "</mrow> </mi>\n",
            "</mrow> <mi>\n",
            "</mrow> n\n",
            "</mrow> </mi>\n",
            "</mrow> </msub>\n",
            "</mrow> <mo>\n",
            "</mrow> )\n",
            "</mrow> </mo>\n",
            "</mrow> </mrow>\n",
            "</mrow> </mrow>\n",
            "</mrow> </mrow>\n",
            "</mrow> </mrow>\n",
            "</mrow> </mrow>\n"
          ],
          "name": "stdout"
        },
        {
          "output_type": "display_data",
          "data": {
            "image/png": "[encoded data removed]",
            "text/plain": [
              "<Figure size 432x288 with 1 Axes>"
            ]
          },
          "metadata": {
            "tags": []
          }
        }
      ]
    },
    {
      "cell_type": "code",
      "metadata": {
        "trusted": true,
        "id": "u0gNl39-5nIl"
      },
      "source": [
        "['<mrow>',\n",
        " '<mi>',\n",
        " 's',\n",
        " '</mi>',\n",
        " '<mrow>',\n",
        " '<mo>',\n",
        " '(',\n",
        " '</mo>',\n",
        " '<mrow>',\n",
        " '<mi>',\n",
        " 'u',\n",
        " '</mi>',\n",
        " '<mrow>',\n",
        " '<mo>',\n",
        " ')',\n",
        " '</mo>',\n",
        " '<mrow>',\n",
        " '<mo>',\n",
        " '=',\n",
        " '</mo>',\n",
        " '<mfrac>',\n",
        " '<mrow>',\n",
        " '<mi>',\n",
        " 'sin',\n",
        " '</mi>',\n",
        " '<mrow>',\n",
        " '<mo>',\n",
        " '(',\n",
        " '</mo>',\n",
        " '<mrow>',\n",
        " '<mi>',\n",
        " 'u',\n",
        " '</mi>',\n",
        " '<mo>',\n",
        " ')',\n",
        " '</mo>',\n",
        " '</mrow>',\n",
        " '</mrow>',\n",
        " '</mrow>',\n",
        " '<mrow>',\n",
        " '<mi>',\n",
        " 'sin',\n",
        " '</mi>',\n",
        " '<mrow>',\n",
        " '<mo>',\n",
        " '(',\n",
        " '</mo>',\n",
        " '<mrow>',\n",
        " '<mi>',\n",
        " 'lambda',\n",
        " '</mi>',\n",
        " '<mo>',\n",
        " ')',\n",
        " '</mo>',\n",
        " '</mrow>',\n",
        " '</mrow>',\n",
        " '</mrow>',\n",
        " '</mfrac>',\n",
        " '</mrow>',\n",
        " '</mrow>',\n",
        " '</mrow>',\n",
        " '</mrow>',\n",
        " '</mrow>']"
      ],
      "execution_count": null,
      "outputs": []
    },
    {
      "cell_type": "code",
      "metadata": {
        "trusted": true,
        "id": "n08NlsYN5nIv"
      },
      "source": [
        "# decoder_hidden = decoder.initHidden()\n",
        "# inp_tar = torch.tensor([0])\n",
        "# for i in range(len(exp_tar)+1):\n",
        "#     decoder_output, decoder_hidden, decoder_attention = decoder(inp_tar, decoder_hidden, out)\n",
        "#     if(i == len(exp_tar)):\n",
        "#         break\n",
        "#     inp_tar = exp_tar[i]"
      ],
      "execution_count": null,
      "outputs": []
    },
    {
      "cell_type": "code",
      "metadata": {
        "trusted": true,
        "id": "WcYMMbYx5nI3"
      },
      "source": [
        "# ans = 0\n",
        "# for i in range(data_size):\n",
        "#     img, tar = get_input_pair(i)\n",
        "#     ans = max(ans, len(tar))\n",
        "# ans"
      ],
      "execution_count": null,
      "outputs": []
    },
    {
      "cell_type": "code",
      "metadata": {
        "trusted": true,
        "id": "9c5PW9q05nI8"
      },
      "source": [
        "# len(wordtoint)+1"
      ],
      "execution_count": null,
      "outputs": []
    },
    {
      "cell_type": "code",
      "metadata": {
        "trusted": true,
        "id": "vtZ_yw5E5nJA"
      },
      "source": [
        "# !unzip \"/content/drive/My Drive/data (1)/cleaned_mathML.zip\" -d data/\n",
        "# !unzip \"/content/drive/My Drive/data (1)/hme_images.zip\" -d data/"
      ],
      "execution_count": null,
      "outputs": []
    },
    {
      "cell_type": "code",
      "metadata": {
        "id": "JpxLIp203KnQ"
      },
      "source": [
        "# from google.colab import drive\n",
        "# drive.mount('/content/drive')"
      ],
      "execution_count": null,
      "outputs": []
    },
    {
      "cell_type": "code",
      "metadata": {
        "id": "Jgw9QPkX3LZA"
      },
      "source": [
        "# !unzip \"/content/drive/My Drive/data (1)/cleaned_mathML.zip\" -d data/\n",
        "# !unzip \"/content/drive/My Drive/data (1)/hme_images.zip\" -d data/"
      ],
      "execution_count": null,
      "outputs": []
    },
    {
      "cell_type": "code",
      "metadata": {
        "id": "tPHGU5hEDJAw"
      },
      "source": [
        "# teacher_forcing_ratio = 0.5\n",
        "\n",
        "\n",
        "# def train2(input_tensor, target_tensor, encoder, decoder, encoder_optimizer, decoder_optimizer, criterion, valid=False, max_length=MAX_LENGTH):\n",
        "#     encoder_optimizer.zero_grad()\n",
        "#     decoder_optimizer.zero_grad()\n",
        "\n",
        "#     target_length = target_tensor.size(0)\n",
        "# #     print(input_tensor.shape)\n",
        "# #     print(target_tensor.shape)\n",
        "# #     encoder_outputs = torch.zeros(max_length, encoder.hidden_size, device=device)\n",
        "\n",
        "#     loss = 0\n",
        "\n",
        "#     encoder_outputs = encoder(input_tensor).reshape(200, -1)\n",
        "    \n",
        "#     decoder_input = torch.tensor([[SOS_token]], device=device)\n",
        "# #     print(encoder_outputs.shape)\n",
        "    \n",
        "#     decoder_hidden = decoder.initHidden()\n",
        "\n",
        "#     use_teacher_forcing = True if random.random() < teacher_forcing_ratio else False\n",
        "\n",
        "#     loss = decode_data(target_length, decoder_input, decoder_hidden, encoder_outputs)\n",
        "    \n",
        "#     if(not valid):\n",
        "#         loss.backward()\n",
        "\n",
        "#         encoder_optimizer.step()\n",
        "#         decoder_optimizer.step()\n",
        "\n",
        "#     return loss.item() / target_length"
      ],
      "execution_count": null,
      "outputs": []
    },
    {
      "cell_type": "code",
      "metadata": {
        "id": "rli3Y-2cR-i6"
      },
      "source": [
        "# def decode_data(target_length, decoder_input, decoder_hidden, encoder_outputs):\n",
        "#     loss = 0\n",
        "#     if use_teacher_forcing:\n",
        "#         # Teacher forcing: Feed the target as the next input\n",
        "#         for di in range(target_length):\n",
        "#             decoder_output, decoder_hidden, decoder_attention = decoder(decoder_input, decoder_hidden, encoder_outputs)\n",
        "#             # print(target_tensor[di], decoder_output)\n",
        "#             if(int(F.softmax(ans).argmax()) != int(target_tensor[di])):\n",
        "#                 loss += criterion(decoder_output, target_tensor[di])\n",
        "#                 break\n",
        "#             decoder_input = target_tensor[di]  # Teacher forcing\n",
        "\n",
        "#     else:\n",
        "#         # Without teacher forcing: use its own predictions as the next input\n",
        "#         for di in range(target_length):\n",
        "#             decoder_output, decoder_hidden, decoder_attention = decoder( decoder_input, decoder_hidden, encoder_outputs)\n",
        "#             topv, topi = decoder_output.topk(1)\n",
        "#             decoder_input = topi.squeeze().detach()  # detach from history as input\n",
        "\n",
        "#             loss += criterion(decoder_output, target_tensor[di])\n",
        "#             if decoder_input.item() == EOS_token:\n",
        "#                 break\n",
        "#     return loss"
      ],
      "execution_count": null,
      "outputs": []
    },
    {
      "cell_type": "code",
      "metadata": {
        "id": "wd-SlkKeGqBJ"
      },
      "source": [
        ""
      ],
      "execution_count": null,
      "outputs": []
    }
  ]
}